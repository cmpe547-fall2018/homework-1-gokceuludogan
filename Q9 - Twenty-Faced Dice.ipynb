{
 "cells": [
  {
   "cell_type": "code",
   "execution_count": 7,
   "metadata": {},
   "outputs": [],
   "source": [
    "import pygraphviz as pgv\n",
    "from IPython.display import Image\n",
    "from IPython.display import display"
   ]
  },
  {
   "cell_type": "code",
   "execution_count": 12,
   "metadata": {},
   "outputs": [],
   "source": [
    "# function from Bayesian Networks notebook: https://github.com/atcemgil/notes/blob/master/BayesianNetworks.ipynb\n",
    "def show_dag_image(index_names, parents, imstr='_BJN_tempfile.png'):\n",
    "    name2idx = {name: i for i,name in enumerate(index_names)}\n",
    "    A = pgv.AGraph(directed=True)\n",
    "    for i_n in index_names:\n",
    "        A.add_node(name2idx[i_n], label=i_n)\n",
    "        for j_n in parents[i_n]:\n",
    "            A.add_edge(name2idx[j_n], name2idx[i_n])\n",
    "    A.layout(prog='dot')\n",
    "    A.draw(imstr)\n",
    "    display(Image(imstr))\n",
    "    return "
   ]
  },
  {
   "cell_type": "markdown",
   "metadata": {},
   "source": [
    "# Q9 - Twenty-Faced Dice"
   ]
  },
  {
   "cell_type": "markdown",
   "metadata": {},
   "source": [
    "A die is selected at random from two twenty-faced dice on which the symbols 1–10 are written with\n",
    "nonuniform frequency as follows:\n",
    "\n",
    "| Symbol                   \t| 1 \t| 2 \t| 3 \t| 4 \t| 5 \t| 6 \t| 7 \t| 8 \t| 9 \t| 10 \t|\n",
    "|--------------------------\t|---\t|---\t|---\t|---\t|---\t|---\t|---\t|---\t|---\t|----\t|\n",
    "| Number of faces of die A \t| 6 \t| 4 \t| 3 \t| 2 \t| 1 \t| 1 \t| 1 \t| 1 \t| 1 \t| 0  \t|\n",
    "| Number of faces of die B \t| 3 \t| 3 \t| 2 \t| 2 \t| 2 \t| 2 \t| 2 \t| 2 \t| 1 \t| 1  \t|"
   ]
  },
  {
   "cell_type": "markdown",
   "metadata": {},
   "source": [
    "1. The randomly chosen die is rolled 7 times, with the following outcomes:\n",
    "\n",
    "    5, 3, 9, 3, 8, 4, 7.\n",
    "    \n",
    "    What is the probability that the die is die A?    "
   ]
  },
  {
   "cell_type": "markdown",
   "metadata": {},
   "source": [
    "Let S be [5, 3, 9, 3, 8, 4, 7] and D be the random variable for the die.\n",
    "\n",
    "$$P(S|D=A) = P(X1=5|D=A) * P(X2=3|D=A) * P(X3=9|D=A) * P(X4=3|D=A) * P(X5=8|D=A) * P(X6=4|D=A) * P(X7=7|D=A)$$\n",
    "$$P(S|D=A) = \\frac{1}{20} * \\frac{3}{20} * \\frac{1}{20} * \\frac{3}{20} * \\frac{1}{20} * \\frac{2}{20} * \\frac{1}{20} = \\frac{18}{20^7}$$\n",
    "\n",
    "$$P(S|D=B) = \\frac{2}{20} * \\frac{2}{20} * \\frac{1}{20} * \\frac{2}{20} * \\frac{2}{20} * \\frac{2}{20} * \\frac{2}{20} = \\frac{64}{20^7}$$\n",
    "\n",
    "The probability that the die is die A: P(D=A|S) = $\\frac{9}{41}$ assuming P(A) = P(B) \n",
    "\n"
   ]
  },
  {
   "cell_type": "markdown",
   "metadata": {},
   "source": [
    "2. Assume that there is a third twenty-faced die, die C, on which the symbols 1–20 are written\n",
    "once each. As above, one of the three dice is selected at random and rolled 7 times, giving\n",
    "the outcomes: 3, 5, 4, 8, 3, 9, 7.\n",
    "What is the probability that the die is die A, die B or die C?"
   ]
  },
  {
   "cell_type": "markdown",
   "metadata": {},
   "source": [
    "Let S be [3, 5, 4, 8, 3, 9, 7]\n",
    "$$ P(S|D=A) = \\frac{3}{20} * \\frac{1}{20} * \\frac{2}{20} * \\frac{1}{20} * \\frac{3}{20} * \\frac{1}{20} * \\frac{1}{20} = \\frac{18}{20^7}$$\n",
    "$$ P(S|D=B) = \\frac{2}{20} * \\frac{2}{20} * \\frac{2}{20} * \\frac{2}{20} * \\frac{2}{20} * \\frac{1}{20} * \\frac{2}{20} = \\frac{64}{20^7} $$\n",
    "$$ P(S|D=C) = \\frac{1}{20} * \\frac{1}{20} * \\frac{1}{20} * \\frac{1}{20} * \\frac{1}{20} * \\frac{1}{20} * \\frac{1}{20} = \\frac{1}{20^7} $$\n",
    "Assuming P(A) = P(B) = P(C)\n",
    "\n",
    "The probability that the die is die A: P(D=A|S) = $ \\frac{18}{83}$\n",
    "\n",
    "The probability that the die is die B: P(D=B|S) = $ \\frac{64}{83}$\n",
    "\n",
    "The probability that the die is die C: P(D=C|S) = $ \\frac{1}{83}$\n"
   ]
  },
  {
   "cell_type": "markdown",
   "metadata": {},
   "source": [
    "3. Choose the appropriate random variables and draw directed graphical models for both problems."
   ]
  },
  {
   "cell_type": "code",
   "execution_count": 11,
   "metadata": {},
   "outputs": [
    {
     "data": {
      "image/png": "[encoded data removed]",
      "text/plain": [
       "<IPython.core.display.Image object>"
      ]
     },
     "metadata": {},
     "output_type": "display_data"
    }
   ],
   "source": [
    "index_names = ['D', 'X1', 'X2', 'X3', 'X4', 'X5', 'X6', 'X7']\n",
    "parents = {'D':[], 'X1':['D'], 'X2':['D'], 'X3':['D'], 'X4':['D'], 'X5':['D'], 'X6':['D'], 'X7':['D']}\n",
    "\n",
    "show_dag_image(index_names, parents)"
   ]
  }
 ],
 "metadata": {
  "kernelspec": {
   "display_name": "Python 3",
   "language": "python",
   "name": "python3"
  },
  "language_info": {
   "codemirror_mode": {
    "name": "ipython",
    "version": 3
   },
   "file_extension": ".py",
   "mimetype": "text/x-python",
   "name": "python",
   "nbconvert_exporter": "python",
   "pygments_lexer": "ipython3",
   "version": "3.6.5"
  }
 },
 "nbformat": 4,
 "nbformat_minor": 2
}
